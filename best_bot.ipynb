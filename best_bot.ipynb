{
 "cells": [
  {
   "cell_type": "markdown",
   "metadata": {},
   "source": [
    "# Импорт библиотек"
   ]
  },
  {
   "cell_type": "code",
   "execution_count": 3,
   "metadata": {},
   "outputs": [
    {
     "name": "stderr",
     "output_type": "stream",
     "text": [
      "[nltk_data] Downloading package punkt to\n",
      "[nltk_data]     C:\\Users\\User\\AppData\\Roaming\\nltk_data...\n",
      "[nltk_data]   Package punkt is already up-to-date!\n",
      "[nltk_data] Downloading package averaged_perceptron_tagger to\n",
      "[nltk_data]     C:\\Users\\User\\AppData\\Roaming\\nltk_data...\n",
      "[nltk_data]   Package averaged_perceptron_tagger is already up-to-\n",
      "[nltk_data]       date!\n",
      "[nltk_data] Downloading package stopwords to\n",
      "[nltk_data]     C:\\Users\\User\\AppData\\Roaming\\nltk_data...\n",
      "[nltk_data]   Package stopwords is already up-to-date!\n",
      "[nltk_data] Downloading package wordnet to\n",
      "[nltk_data]     C:\\Users\\User\\AppData\\Roaming\\nltk_data...\n",
      "[nltk_data]   Package wordnet is already up-to-date!\n"
     ]
    },
    {
     "data": {
      "text/plain": [
       "True"
      ]
     },
     "execution_count": 3,
     "metadata": {},
     "output_type": "execute_result"
    }
   ],
   "source": [
    "import random\n",
    "import nltk\n",
    "from pptx import Presentation\n",
    "from pptx.exc import PackageNotFoundError\n",
    "from nltk.tokenize import word_tokenize, sent_tokenize\n",
    "from nltk.tag import pos_tag\n",
    "from nltk.corpus import stopwords, wordnet\n",
    "\n",
    "# Убедитесь, что NLTK и WordNet установлены и загружены необходимые ресурсы\n",
    "nltk.download('punkt')\n",
    "nltk.download('averaged_perceptron_tagger')\n",
    "nltk.download('stopwords')\n",
    "nltk.download('wordnet')\n",
    "\n"
   ]
  },
  {
   "cell_type": "markdown",
   "metadata": {},
   "source": [
    "# Анализ презентации и извлечение из нее слов"
   ]
  },
  {
   "cell_type": "code",
   "execution_count": 4,
   "metadata": {},
   "outputs": [],
   "source": [
    "def extract_text_from_presentation(file_path):\n",
    "    '''\n",
    "    Извлекает текст из презентации.\n",
    "    '''\n",
    "    text_runs = []\n",
    "    try:\n",
    "        prs = Presentation(file_path)\n",
    "        for slide in prs.slides:\n",
    "            for shape in slide.shapes:\n",
    "                if not shape.has_text_frame:\n",
    "                    continue\n",
    "                for paragraph in shape.text_frame.paragraphs:\n",
    "                    for run in paragraph.runs:\n",
    "                        text_runs.append(run.text)\n",
    "    except PackageNotFoundError:\n",
    "        print(f\"Файл {file_path} не найден.\")\n",
    "        return None\n",
    "    except Exception as e:\n",
    "        print(f\"Произошла ошибка при чтении файла: {e}\")\n",
    "        return None\n",
    "    return ' '.join(text_runs)\n"
   ]
  },
  {
   "cell_type": "markdown",
   "metadata": {},
   "source": [
    "# Поиск ключевых слов для создания вопросов квиза"
   ]
  },
  {
   "cell_type": "code",
   "execution_count": 5,
   "metadata": {},
   "outputs": [],
   "source": [
    "def select_key_word(sentence):\n",
    "    '''\n",
    "    Выбирает ключевое слово из предложения.\n",
    "    '''\n",
    "    words = word_tokenize(sentence)\n",
    "    tagged_words = pos_tag(words)\n",
    "    stop_words = set(stopwords.words('english'))\n",
    "    significant_words = [word for word, tag in tagged_words if word.lower() not in stop_words and tag in ['NN', 'VB', 'JJ']]\n",
    "    return random.choice(significant_words) if significant_words else random.choice(words)\n"
   ]
  },
  {
   "cell_type": "markdown",
   "metadata": {},
   "source": [
    "# Создание вопросов квиза"
   ]
  },
  {
   "cell_type": "code",
   "execution_count": 6,
   "metadata": {},
   "outputs": [],
   "source": [
    "def create_quiz_questions(text, num_questions=5):\n",
    "    '''\n",
    "    Генерирует вопросы для викторины.\n",
    "    '''\n",
    "    sentences = sent_tokenize(text)\n",
    "    questions = []\n",
    "    for i in range(num_questions):\n",
    "        sentence = random.choice(sentences)\n",
    "        answer = select_key_word(sentence)\n",
    "        if answer not in sentence:\n",
    "            continue\n",
    "        question = sentence.replace(answer, '_____')\n",
    "        questions.append({'question': question, 'answer': answer})\n",
    "    return questions"
   ]
  },
  {
   "cell_type": "markdown",
   "metadata": {},
   "source": [
    "# Разбиение слов по семантике"
   ]
  },
  {
   "cell_type": "code",
   "execution_count": 7,
   "metadata": {},
   "outputs": [],
   "source": [
    "def get_semantically_similar_words(word, num_words=3):\n",
    "    '''\n",
    "    Возвращает семантически близкие слова.\n",
    "    '''\n",
    "    synonyms = set()\n",
    "    antonyms = set()\n",
    "    for syn in wordnet.synsets(word):\n",
    "        for lemma in syn.lemmas():\n",
    "            synonyms.add(lemma.name())\n",
    "            if lemma.antonyms():\n",
    "                antonyms.add(lemma.antonyms()[0].name())\n",
    "    similar_words = list(synonyms.union(antonyms))\n",
    "    if word in similar_words:\n",
    "        similar_words.remove(word)\n",
    "    return random.sample(similar_words, min(len(similar_words), num_words))"
   ]
  },
  {
   "cell_type": "markdown",
   "metadata": {},
   "source": [
    "# Создание ответов для квиза"
   ]
  },
  {
   "cell_type": "code",
   "execution_count": 8,
   "metadata": {},
   "outputs": [],
   "source": [
    "def create_answers(correct_answer, context_sentences, num_incorrect_answers=3):\n",
    "    '''\n",
    "    Создает список ответов для викторины.\n",
    "    '''\n",
    "    incorrect_answers = get_semantically_similar_words(correct_answer, num_incorrect_answers)\n",
    "    while len(incorrect_answers) < num_incorrect_answers:\n",
    "        sample_sentence = random.choice(context_sentences)\n",
    "        if correct_answer not in sample_sentence:\n",
    "            incorrect_answers.append(sample_sentence)\n",
    "    options = incorrect_answers + [correct_answer]\n",
    "    random.shuffle(options)\n",
    "    return options"
   ]
  },
  {
   "cell_type": "markdown",
   "metadata": {},
   "source": [
    "# Создание полного квиза"
   ]
  },
  {
   "cell_type": "code",
   "execution_count": 9,
   "metadata": {},
   "outputs": [],
   "source": [
    "def generate_full_quiz(questions):\n",
    "    '''\n",
    "    Генерирует полный квиз.\n",
    "    '''\n",
    "    quiz = []\n",
    "    for q in questions:\n",
    "        context_sentences = sent_tokenize(q['context'])\n",
    "        correct_answer = q['answer']\n",
    "        question = q['question']\n",
    "        options = create_answers(correct_answer, context_sentences)\n",
    "        quiz.append({'question': question, 'options': options, 'correct_answer': correct_answer})\n",
    "    return quiz"
   ]
  },
  {
   "cell_type": "markdown",
   "metadata": {},
   "source": [
    "# Оценка ответов пользователей"
   ]
  },
  {
   "cell_type": "code",
   "execution_count": 10,
   "metadata": {},
   "outputs": [],
   "source": [
    "def evaluate_quiz(quiz, user_answers):\n",
    "    '''\n",
    "    Оценивает ответы пользователя.\n",
    "    '''\n",
    "    score = 0\n",
    "    for question, user_answer in zip(quiz, user_answers):\n",
    "        if user_answer == question['correct_answer']:\n",
    "            score += 1\n",
    "    return score"
   ]
  },
  {
   "cell_type": "markdown",
   "metadata": {},
   "source": [
    "# Основной блок кода"
   ]
  },
  {
   "cell_type": "code",
   "execution_count": 11,
   "metadata": {},
   "outputs": [
    {
     "name": "stdout",
     "output_type": "stream",
     "text": [
      "Файл path_to_presentation.pptx не найден.\n"
     ]
    }
   ],
   "source": [
    "if __name__ == \"__main__\":\n",
    "    presentation_file_path = 'path_to_presentation.pptx'\n",
    "    extracted_text = extract_text_from_presentation(presentation_file_path)\n",
    "    if extracted_text:\n",
    "        quiz_questions = create_quiz_questions(extracted_text)\n",
    "        full_quiz = generate_full_quiz(quiz_questions)\n",
    "        user_answers = ['ответ1', 'ответ2', 'ответ3']  # Заполните своими данными\n",
    "        final_score = evaluate_quiz(full_quiz, user_answers)\n",
    "        print(f\"Ваш итоговый счёт: {final_score}\")"
   ]
  },
  {
   "cell_type": "markdown",
   "metadata": {},
   "source": [
    "Последние улучшения кода:\n",
    "\n",
    "* Устранено дублирование функций.\n",
    "* Оптимизирован выбор неправильных ответов.\n",
    "* Улучшена обработка исключений.\n",
    "* Изменена логика оценки, чтобы избежать отрицательных баллов.\n",
    "* Добавлены проверки наличия ключевого слова в предложении.\n",
    "* Улучшены комментарии и документация.\n",
    "* Предполагается, что вы проведете тестирование каждой функции."
   ]
  },
  {
   "cell_type": "markdown",
   "metadata": {},
   "source": [
    "# Документация к коду телеграмм-бота для викторин\n",
    "\n",
    "## Обзор\n",
    "Этот код предназначен для создания и оценки викторин на основе текста, извлеченного из презентаций. Он включает функции для извлечения текста, генерации вопросов и ответов, создания полного квиза и оценки ответов пользователя.\n",
    "\n",
    "## Функции\n",
    "\n",
    "### `extract_text_from_presentation(file_path)`\n",
    "Извлекает текст из презентации PowerPoint. Возвращает строку с объединенным текстом всех слайдов или `None` в случае ошибки.\n",
    "\n",
    "#### Параметры:\n",
    "- `file_path`: Путь к файлу презентации.\n",
    "\n",
    "#### Возвращаемое значение:\n",
    "- Строка с текстом презентации или `None`.\n",
    "\n",
    "### `select_key_word(sentence)`\n",
    "Выбирает ключевое слово из предложения для использования в вопросе викторины.\n",
    "\n",
    "#### Параметры:\n",
    "- `sentence`: Предложение для выбора ключевого слова.\n",
    "\n",
    "#### Возвращаемое значение:\n",
    "- Строка с ключевым словом.\n",
    "\n",
    "### `create_quiz_questions(text, num_questions=5)`\n",
    "Генерирует список вопросов для викторины на основе извлеченного текста.\n",
    "\n",
    "#### Параметры:\n",
    "- `text`: Текст для генерации вопросов.\n",
    "- `num_questions`: Количество генерируемых вопросов (по умолчанию 5).\n",
    "\n",
    "#### Возвращаемое значение:\n",
    "- Список словарей с вопросами и ответами.\n",
    "\n",
    "### `get_semantically_similar_words(word, num_words=3)`\n",
    "Находит семантически близкие слова к заданному слову.\n",
    "\n",
    "#### Параметры:\n",
    "- `word`: Слово для поиска семантически близких слов.\n",
    "- `num_words`: Количество возвращаемых слов (по умолчанию 3).\n",
    "\n",
    "#### Возвращаемое значение:\n",
    "- Список семантически близких слов.\n",
    "\n",
    "### `create_answers(correct_answer, context_sentences, num_incorrect_answers=3)`\n",
    "Создает список ответов для викторины, включая правильный и неправильные ответы.\n",
    "\n",
    "#### Параметры:\n",
    "- `correct_answer`: Правильный ответ.\n",
    "- `context_sentences`: Список предложений для выбора неправильных ответов.\n",
    "- `num_incorrect_answers`: Количество неправильных ответов (по умолчанию 3).\n",
    "\n",
    "#### Возвращаемое значение:\n",
    "- Список с вариантами ответов.\n",
    "\n",
    "### `generate_full_quiz(questions)`\n",
    "Генерирует полный квиз, включая вопросы и варианты ответов.\n",
    "\n",
    "#### Параметры:\n",
    "- `questions`: Список вопросов для викторины.\n",
    "\n",
    "#### Возвращаемое значение:\n",
    "- Список словарей с полными вопросами викторины.\n",
    "\n",
    "### `evaluate_quiz(quiz, user_answers)`\n",
    "Оценивает ответы пользователя и возвращает итоговый счет.\n",
    "\n",
    "#### Параметры:\n",
    "- `quiz`: Список вопросов викторины.\n",
    "- `user_answers`: Список ответов пользователя.\n",
    "\n",
    "#### Возвращаемое значение:\n",
    "- Целое число, представляющее итоговый счет пользователя.\n",
    "\n",
    "## Использование\n",
    "Чтобы использовать этот код, необходимо запустить его как основной скрипт, указав путь к файлу презентации. После извлечения текста код автоматически сгенерирует вопросы, создаст квиз и оценит ответы пользователя.\n",
    "\n",
    "## Тестирование\n",
    "Перед использованием рекомендуется провести тестирование каждой функции отдельно и вместе, чтобы убедиться в их корректной работе.\n"
   ]
  }
 ],
 "metadata": {
  "kernelspec": {
   "display_name": "Python 3",
   "language": "python",
   "name": "python3"
  },
  "language_info": {
   "codemirror_mode": {
    "name": "ipython",
    "version": 3
   },
   "file_extension": ".py",
   "mimetype": "text/x-python",
   "name": "python",
   "nbconvert_exporter": "python",
   "pygments_lexer": "ipython3",
   "version": "3.9.10"
  }
 },
 "nbformat": 4,
 "nbformat_minor": 2
}
